{
 "cells": [
  {
   "cell_type": "code",
   "execution_count": 1,
   "metadata": {},
   "outputs": [
    {
     "name": "stdout",
     "output_type": "stream",
     "text": [
      "\n",
      "■■■■■■■■■\n",
      "下載完成\n"
     ]
    }
   ],
   "source": [
    "# 進度條功能\n",
    "import time\n",
    "#print(\"■\"*10, sep=\"\", end=\"\")\n",
    "print(\"\\r\")\n",
    "for i in range(10):    \n",
    "    print(\"\\r\" + \"■\"*i, sep=\"\", end=\"\")\n",
    "    time.sleep(0.2)\n",
    "    \n",
    "print(\"\\n下載完成\")"
   ]
  },
  {
   "cell_type": "code",
   "execution_count": 2,
   "metadata": {},
   "outputs": [
    {
     "name": "stdout",
     "output_type": "stream",
     "text": [
      "\r",
      "■■■■■■■■■"
     ]
    }
   ],
   "source": [
    "print(\"\\r\" + \"■\"*i, sep=\"\", end=\"\")"
   ]
  },
  {
   "cell_type": "code",
   "execution_count": 3,
   "metadata": {},
   "outputs": [
    {
     "name": "stdout",
     "output_type": "stream",
     "text": [
      "|||||||||||||||"
     ]
    }
   ],
   "source": [
    "import time\n",
    "s = \"枝上柳綿吹又少，天涯何處無芳草\"\n",
    "l = len(s)\n",
    "for i in range(l):\n",
    "    print(\"\\r\" + s[:l-1-i] + \"|\", end=\"\")\n",
    "    time.sleep(0.15)"
   ]
  },
  {
   "cell_type": "code",
   "execution_count": 4,
   "metadata": {},
   "outputs": [
    {
     "name": "stdout",
     "output_type": "stream",
     "text": [
      "八\n",
      " \n",
      "陣\n",
      " \n",
      "圖\n",
      "功 八\n",
      "蓋  \n",
      "三 陣\n",
      "分  \n",
      "國 圖\n",
      "名 功 八\n",
      "成 蓋  \n",
      "八 三 陣\n",
      "陣 分  \n",
      "圖 國 圖\n",
      "江 名 功 八\n",
      "流 成 蓋  \n",
      "石 八 三 陣\n",
      "不 陣 分  \n",
      "轉 圖 國 圖\n",
      "遣 江 名 功 八\n",
      "恨 流 成 蓋  \n",
      "失 石 八 三 陣\n",
      "吞 不 陣 分  \n",
      "吳 轉 圖 國 圖\n"
     ]
    }
   ],
   "source": [
    "import time\n",
    "import numpy as np\n",
    "String = '八 陣 圖功蓋三分國名成八陣圖江流石不轉遣恨失吞吳'\n",
    "temp = [String[i:i+5] for i in range(0, len(String), 5)]\n",
    "my_list = [list(temp[i]) for i in range(5)]\n",
    "data = np.array(my_list)\n",
    "右轉90 = np.rot90(data, -1)\n",
    "#print(右轉90)\n",
    "for t in range(1,6):\n",
    "    for line in 右轉90:\n",
    "        #print(*右轉90[-t:],sep=\"\",end=\"\\r\\n\")\n",
    "        #print(line[-1])\n",
    "        print(*(line[-t:]),end=\"\\n\")\n",
    "        #print(*(line),sep=\"\",end=\"\\r\")\n",
    "        #print(f'\\r{line[-t:]}',sep=\"\",end=\"\")\n",
    "    time.sleep(1)"
   ]
  },
  {
   "cell_type": "code",
   "execution_count": 5,
   "metadata": {},
   "outputs": [
    {
     "name": "stdout",
     "output_type": "stream",
     "text": [
      "遣 江 名 功 八\n",
      "恨 流 成 蓋 　\n",
      "失 石 八 三 陣\n",
      "吞 不 陣 分 　\n",
      "吳 轉 圖 國 圖\n"
     ]
    }
   ],
   "source": [
    "import time\n",
    "import numpy as np\n",
    "String = \"八　陣　圖功蓋三分國名成八陣圖江流石不轉遣恨失吞吳\"\n",
    "String = String[::-1]\n",
    "mydict = {k1:{k2:String[k2+k1*5] for k2 in range(5)} for k1 in range(5)}\n",
    "for i in range(5):\n",
    "    print(*(f'{v[4-i]}' for s,v in mydict.items()))\n",
    "    time.sleep(1)"
   ]
  },
  {
   "cell_type": "code",
   "execution_count": 6,
   "metadata": {},
   "outputs": [
    {
     "name": "stdout",
     "output_type": "stream",
     "text": [
      "八　陣　圖\n",
      "功蓋三分國\n",
      "名成八陣圖\n",
      "江流石不轉\n",
      "遣恨失吞吳\n"
     ]
    }
   ],
   "source": [
    "import time\n",
    "五言絕句 = \"八　陣　圖功蓋三分國名成八陣圖江流石不轉遣恨失吞吳\"\n",
    "for 文字 in range(0,len(五言絕句),5):\n",
    "    新句 = ''\n",
    "    for 單字 in 五言絕句[文字:文字+5]:\n",
    "        新句 += 單字\n",
    "        print('\\r'+新句,end=\"\")\n",
    "        time.sleep(1)\n",
    "    print()"
   ]
  },
  {
   "cell_type": "code",
   "execution_count": 7,
   "metadata": {},
   "outputs": [
    {
     "name": "stdout",
     "output_type": "stream",
     "text": [
      "八　陣　圖\n",
      "功蓋三分國\n",
      "名成八陣圖\n",
      "江流石不轉\n",
      "遣恨失吞吳\n"
     ]
    }
   ],
   "source": [
    "import time\n",
    "f_chq = \"八　陣　圖功蓋三分國名成八陣圖江流石不轉遣恨失吞吳\"\n",
    "\n",
    "for word in range(0,len(f_chq),5):\n",
    "    new_s = ''\n",
    "    for s in f_chq[word:word+5]:\n",
    "        new_s += s\n",
    "        print('\\r'+new_s,end=\"\")\n",
    "        time.sleep(1)\n",
    "    print()\n"
   ]
  },
  {
   "cell_type": "code",
   "execution_count": 8,
   "metadata": {},
   "outputs": [
    {
     "name": "stdout",
     "output_type": "stream",
     "text": [
      "遣江名功八\n",
      "恨流成蓋 \n",
      "失石八三陣\n",
      "吞不陣分 \n",
      "吳轉圖國圖\n"
     ]
    }
   ],
   "source": [
    "import time\n",
    "import numpy as np\n",
    "f_chq = '八 陣 圖功蓋三分國名成八陣圖江流石不轉遣恨失吞吳'\n",
    "temp = [f_chq[i:i+5] for i in range(0, len(f_chq), 5)]\n",
    "my_list = [list(temp[i]) for i in range(5)]\n",
    "data = np.array(my_list)\n",
    "turn_right90 = np.rot90(data, -1)\n",
    "\n",
    "for word in range(0,len(turn_right90)):\n",
    "    new_s = ''\n",
    "    for s in turn_right90[word]:\n",
    "        new_s += s\n",
    "        print('\\r'+new_s,end=\"\")\n",
    "        time.sleep(1)\n",
    "    print()"
   ]
  },
  {
   "cell_type": "code",
   "execution_count": 9,
   "metadata": {},
   "outputs": [
    {
     "name": "stdout",
     "output_type": "stream",
     "text": [
      "遣 江 名 功 八\n",
      "恨 流 成 蓋 　\n",
      "失 石 八 三 陣\n",
      "吞 不 陣 分 　\n",
      "吳 轉 圖 國 圖\n"
     ]
    }
   ],
   "source": [
    "import time\n",
    "import numpy as np\n",
    "f_chq = '八　陣　圖功蓋三分國名成八陣圖江流石不轉遣恨失吞吳'\n",
    "temp = [f_chq[i:i+5] for i in range(0, len(f_chq), 5)]\n",
    "my_list = [list(temp[i]) for i in range(5)]\n",
    "data = np.array(my_list)\n",
    "turn_right90 = np.rot90(data, -1)\n",
    "\n",
    "for line in turn_right90:\n",
    "    for i in range(1,len(line)+1):\n",
    "        print(*line[-i:],end=\"\\r\")\n",
    "        time.sleep(1)\n",
    "    print()"
   ]
  },
  {
   "cell_type": "code",
   "execution_count": 10,
   "metadata": {},
   "outputs": [
    {
     "name": "stdout",
     "output_type": "stream",
     "text": [
      "八\n",
      "　\n",
      "陣\n",
      "　\n",
      "圖\n",
      "功 八\n",
      "蓋 　\n",
      "三 陣\n",
      "分 　\n",
      "國 圖\n",
      "名 功 八\n",
      "成 蓋 　\n",
      "八 三 陣\n",
      "陣 分 　\n",
      "圖 國 圖\n",
      "江 名 功 八\n",
      "流 成 蓋 　\n",
      "石 八 三 陣\n",
      "不 陣 分 　\n",
      "轉 圖 國 圖\n",
      "遣 江 名 功 八\n",
      "恨 流 成 蓋 　\n",
      "失 石 八 三 陣\n",
      "吞 不 陣 分 　\n",
      "吳 轉 圖 國 圖\n"
     ]
    }
   ],
   "source": [
    "import time\n",
    "import numpy as np\n",
    "f_chq = '八　陣　圖功蓋三分國名成八陣圖江流石不轉遣恨失吞吳'\n",
    "temp = [f_chq[i:i+5] for i in range(0, len(f_chq), 5)]\n",
    "my_list = [list(temp[i]) for i in range(5)]\n",
    "data = np.array(my_list)\n",
    "turn_right90 = np.rot90(data, -1)\n",
    "\n",
    "for i in range(1,len(turn_right90)+1):\n",
    "    for line in turn_right90:\n",
    "        print(*line[-i:],end=\"\\n\")\n",
    "        time.sleep(1)\n",
    "        "
   ]
  },
  {
   "cell_type": "code",
   "execution_count": 11,
   "metadata": {},
   "outputs": [
    {
     "name": "stdout",
     "output_type": "stream",
     "text": [
      "八\n",
      "　\n",
      "陣\n",
      "　\n",
      "功 八\n",
      "蓋 　\n",
      "三 陣\n",
      "分 　\n",
      "名 功 八\n",
      "成 蓋 　\n",
      "八 三 陣\n",
      "陣 分 　\n",
      "江 名 功 八\n",
      "流 成 蓋 　\n",
      "石 八 三 陣\n",
      "不 陣 分 　\n",
      "遣 江 名 功 八\n",
      "恨 流 成 蓋 　\n",
      "失 石 八 三 陣\n",
      "吞 不 陣 分 　\n",
      "吳 轉 圖 國 圖\r"
     ]
    }
   ],
   "source": [
    "import time\n",
    "import numpy as np\n",
    "f_chq = '八　陣　圖功蓋三分國名成八陣圖江流石不轉遣恨失吞吳'\n",
    "temp = [f_chq[i:i+5] for i in range(0, len(f_chq), 5)]\n",
    "my_list = [list(temp[i]) for i in range(5)]\n",
    "data = np.array(my_list)\n",
    "turn_right90 = np.rot90(data, -1)\n",
    "\n",
    "for i in range(1,len(turn_right90)+1):\n",
    "    #print(f'i={i}')\n",
    "    count = 0\n",
    "    for line in turn_right90:\n",
    "        count+=1\n",
    "        if count == 5:\n",
    "            print(*line[-i:],end=\"\\r\")\n",
    "        else:\n",
    "            print(*line[-i:],end=\"\\n\")\n",
    "        time.sleep(1)\n",
    "    #print('\\r')"
   ]
  },
  {
   "cell_type": "code",
   "execution_count": 12,
   "metadata": {},
   "outputs": [
    {
     "name": "stdout",
     "output_type": "stream",
     "text": [
      "圖\n",
      "國 圖\n",
      "圖 國 圖\n",
      "轉 圖 國 圖\n",
      "吳 轉 圖 國 圖\n"
     ]
    }
   ],
   "source": [
    "import time\n",
    "import numpy as np\n",
    "f_chq = '八　陣　圖功蓋三分國名成八陣圖江流石不轉遣恨失吞吳'\n",
    "temp = [f_chq[i:i+5] for i in range(0, len(f_chq), 5)]\n",
    "my_list = [list(temp[i]) for i in range(5)]\n",
    "data = np.array(my_list)\n",
    "turn_right90 = np.rot90(data, -1)\n",
    "\n",
    "for i in range(1,len(turn_right90)+1):\n",
    "    #print(f'i={i}')    \n",
    "    for line in turn_right90:\n",
    "        print(*line[-i:],end=\"\\r\")\n",
    "        time.sleep(1)\n",
    "    print('\\r')"
   ]
  },
  {
   "cell_type": "code",
   "execution_count": 13,
   "metadata": {},
   "outputs": [
    {
     "name": "stdout",
     "output_type": "stream",
     "text": [
      "八\n",
      " \n",
      "陣\n",
      " \n",
      "圖\n",
      "功 八\n",
      "蓋  \n",
      "三 陣\n",
      "分  \n",
      "國 圖\n",
      "名 功 八\n",
      "成 蓋  \n",
      "八 三 陣\n",
      "陣 分  \n",
      "圖 國 圖\n",
      "江 名 功 八\n",
      "流 成 蓋  \n",
      "石 八 三 陣\n",
      "不 陣 分  \n",
      "轉 圖 國 圖\n",
      "遣 江 名 功 八\n",
      "恨 流 成 蓋  \n",
      "失 石 八 三 陣\n",
      "吞 不 陣 分  \n",
      "吳 轉 圖 國 圖\n"
     ]
    }
   ],
   "source": [
    "import time\n",
    "import numpy as np\n",
    "String = '八 陣 圖功蓋三分國名成八陣圖江流石不轉遣恨失吞吳'\n",
    "temp = [String[i:i+5] for i in range(0, len(String), 5)]\n",
    "my_list = [list(temp[i]) for i in range(5)]\n",
    "data = np.array(my_list)\n",
    "右轉90 = np.rot90(data, -1)\n",
    "#print(右轉90)\n",
    "for t in range(1,6):\n",
    "    for line in 右轉90:\n",
    "        #print(*右轉90[-t:],sep=\"\",end=\"\\r\\n\")\n",
    "        #print(line[-1])\n",
    "        print(*(line[-t:]),end=\"\\n\")\n",
    "        #print(*(line),sep=\"\",end=\"\\r\")\n",
    "        #print(f'\\r{line[-t:]}',sep=\"\",end=\"\")\n",
    "    time.sleep(1)"
   ]
  },
  {
   "cell_type": "code",
   "execution_count": 14,
   "metadata": {},
   "outputs": [
    {
     "name": "stdout",
     "output_type": "stream",
     "text": [
      "Acat had made the acquaintance of a mouse \n",
      "and had said so much to her about the great love and friendship that he felt for her \n",
      "that at last the mouse agreed that they should live and keep house together. \"But we must make preparations for winter eep house together. \"But \n",
      "or else we shall suffer from hunger,\" said the cat \n",
      "\"and you \n",
      "little mouse \n",
      "cannot venture out everywhere \n",
      "or in the end you will be caught in a trap.\" This good advice was followed \n",
      "and they bought a pot of fat \n",
      "but they did not know where to store it. Finally \n",
      "after much consideration \n",
      "the cat said \n",
      "\"I know of no place where it will be better stored up than in the church. No one dares take anything away from there. We will put it beneath the altar  than in the church. I know of no place where it will be better stored up than in the church. No one dares take anything away from  no place where it will be better stored up than in the church. No one dares take anything away from there. \n",
      "and not touch it until we are need it.\" So the pot was stored safely away \n",
      "but it was not long before the cat took a great longing for it re the cat took a \n",
      "and said to the mouse \n",
      "\"I wanted to tell you \n",
      "little mouse \n",
      "that my cousin has brought a little son into the world \n",
      "and she has asked me to be his godfather. He is white with brown spots \n",
      "and I am to hold him over the baptismal font. Let me go out today \n",
      "and you look after the house by yourself.\" - \"Yes \n",
      "yes,\" answered the mouse. \"By all means go \n",
      "and if you get anything good to eat \n",
      "think of me. I would like to drink a drop of sweet red christening wine myself.\" All this \n",
      "however \n",
      "was untrue. The cat had no cousin \n",
      "and had not been asked to be godfather. He went straight to the church  godfather. He went straight to the \n",
      "crept up to the pot of fat \n",
      "began to lick at it \n",
      "and licked off the top of the fat. Then he went for a stroll on the roofs of the town f the fat. Then he went for a stroll on the roofs of \n",
      "looked out for opportunities \n",
      "and then stretched out in the sun \n",
      "licking his whiskers whenever he thought of the pot of fat. He did not return home until it was evening. ever he thought of the pot of fat. He did not return home until it g his whiskers whenever he thought of the pot of fat. He did not return home until it was evening. \"Well \n",
      "here you are again,\" said the mouse. \"You must have had a happy day.\" - \"Everything went well,\" answered the cat. \"What name did they give the child?\" asked the mouse. \"Top-Off,\" said the cat quite coolly. \"Top-Off?\" cried the mouse. \"That is a very odd and uncommon name. Is it a usual one in your family?\" - \"What does that matter?\" said the cat. \"It is no worse than Crumb-Thief e mouse. \"You must have had a happy day.\" - \"Everything went well,\" answered the cat. \"What name did they give the child?\" \" said the mouse. \"You must have had a happy day.\" - \"Everything went well,\" answered the cat. \"What name did they give the child?\" asked the mouse. \"Top-Off,\" ere you are again,\" said the mouse. \"You must have had a happy day.\" - \"Everything went well,\" answered the cat. \"What name did they give the child?\" asked the mouse. \"Top-Off,\" said the cat quite coolly. \"Top-Off?\" cried the mouse. \"That is a very odd and uncommon name. Is it a usual one in your family?\" - \"What does that matter?\" said the cat. \"It is no worse \n",
      "as your godchildren are called.\" \n"
     ]
    }
   ],
   "source": [
    "import time\n",
    "article = 'Acat had made the acquaintance of a mouse, and had said so much to her about the great love and friendship that he felt for her, that at last the mouse agreed that they should live and keep house together. \"But we must make preparations for winter, or else we shall suffer from hunger,\" said the cat, \"and you, little mouse, cannot venture out everywhere, or in the end you will be caught in a trap.\" This good advice was followed, and they bought a pot of fat, but they did not know where to store it. Finally, after much consideration, the cat said, \"I know of no place where it will be better stored up than in the church. No one dares take anything away from there. We will put it beneath the altar, and not touch it until we are need it.\" So the pot was stored safely away, but it was not long before the cat took a great longing for it, and said to the mouse, \"I wanted to tell you, little mouse, that my cousin has brought a little son into the world, and she has asked me to be his godfather. He is white with brown spots, and I am to hold him over the baptismal font. Let me go out today, and you look after the house by yourself.\" - \"Yes, yes,\" answered the mouse. \"By all means go, and if you get anything good to eat, think of me. I would like to drink a drop of sweet red christening wine myself.\" All this, however, was untrue. The cat had no cousin, and had not been asked to be godfather. He went straight to the church, crept up to the pot of fat, began to lick at it, and licked off the top of the fat. Then he went for a stroll on the roofs of the town, looked out for opportunities, and then stretched out in the sun, licking his whiskers whenever he thought of the pot of fat. He did not return home until it was evening. \"Well, here you are again,\" said the mouse. \"You must have had a happy day.\" - \"Everything went well,\" answered the cat. \"What name did they give the child?\" asked the mouse. \"Top-Off,\" said the cat quite coolly. \"Top-Off?\" cried the mouse. \"That is a very odd and uncommon name. Is it a usual one in your family?\" - \"What does that matter?\" said the cat. \"It is no worse than Crumb-Thief, as your godchildren are called.\"'\n",
    "article = [s for s in article.split(', ')]\n",
    "\n",
    "for word in range(len(article)):\n",
    "    new_s = ''\n",
    "    for s in article[word].split(' '):\n",
    "        new_s += (s + ' ')\n",
    "        print(*new_s,sep=\"\",end=\"\\r\")\n",
    "        time.sleep(0.2)\n",
    "    print()"
   ]
  },
  {
   "cell_type": "code",
   "execution_count": null,
   "metadata": {},
   "outputs": [],
   "source": []
  }
 ],
 "metadata": {
  "kernelspec": {
   "display_name": "Python 3",
   "language": "python",
   "name": "python3"
  },
  "language_info": {
   "codemirror_mode": {
    "name": "ipython",
    "version": 3
   },
   "file_extension": ".py",
   "mimetype": "text/x-python",
   "name": "python",
   "nbconvert_exporter": "python",
   "pygments_lexer": "ipython3",
   "version": "3.8.5"
  }
 },
 "nbformat": 4,
 "nbformat_minor": 4
}
